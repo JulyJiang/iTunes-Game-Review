{
 "cells": [
  {
   "cell_type": "code",
   "execution_count": 1,
   "metadata": {},
   "outputs": [],
   "source": [
    "import sqlite3\n",
    "import json\n",
    "import requests\n",
    "from bs4 import BeautifulSoup\n",
    "import pandas as pd\n",
    "import numpy as np "
   ]
  },
  {
   "cell_type": "markdown",
   "metadata": {},
   "source": [
    "# Scrapping Apps and Metascore from metacritic:"
   ]
  },
  {
   "cell_type": "code",
   "execution_count": 25,
   "metadata": {},
   "outputs": [],
   "source": [
    "def meta_url(page_num=0):\n",
    "    return f\"https://www.metacritic.com/browse/games/release-date/available/ios/metascore?page={page_num}\"\n",
    "\n",
    "def get_meta_score(total_page = 1):\n",
    "    meta_score = []\n",
    "    for page in range(total_page):\n",
    "        # headers to prevent 403 denial\n",
    "        headers = {'User-Agent': 'Mozilla/5.0 (Macintosh; Intel Mac OS X 10_11_5) AppleWebKit/537.36 (KHTML, like Gecko) Chrome/50.0.2661.102 Safari/537.36'}\n",
    "        response = requests.get(meta_url(page),headers = headers)\n",
    "        soup = BeautifulSoup(response.text,'html.parser')\n",
    "        # findall tables with app and scores\n",
    "        tables = soup.find_all(\"table\",{\"class\":\"clamp-list\"})\n",
    "        for table in tables:\n",
    "            rows = table.find_all(\"tr\")\n",
    "            for row in rows:\n",
    "                # skip empty rows \"tr\":\"spacer\":(only process a-tag with class=title)\n",
    "                if row.find(\"a\",{\"class\":\"title\"}):\n",
    "                    name = row.find(\"a\",{\"class\":\"title\"}).find(\"h3\").get_text()\n",
    "                    score = row.find(\"a\",{\"class\":\"metascore_anchor\"}).get_text().replace(\"\\n\",\"\")\n",
    "                    meta_score.append((name,score))\n",
    "    return meta_score"
   ]
  },
  {
   "cell_type": "markdown",
   "metadata": {},
   "source": [
    "# SQLite DataBase Related Functions:"
   ]
  },
  {
   "cell_type": "code",
   "execution_count": 16,
   "metadata": {},
   "outputs": [],
   "source": [
    "# Database Related Functions:\n",
    "def create_connection():\n",
    "    conn = sqlite3.connect(\"metascore.db\")\n",
    "    cur = conn.cursor()\n",
    "    return conn,cur\n",
    "\n",
    "# create 'meta_score' table (with data we scrap in the first time) \n",
    "def create_meta_data_table(meta_scores):\n",
    "    conn, cur = create_connection()\n",
    "    # Create a brand new \"meta_score\" table in db\n",
    "    cur.execute('DROP TABLE meta_score');\n",
    "    cur.execute('CREATE TABLE meta_score (name TEXT, score INTEGER)');\n",
    "    cur.executemany('INSERT INTO meta_score VALUES (?,?)',meta_scores);\n",
    "    conn.commit()\n",
    "    # Check table content:\n",
    "    # cur.execute('SELECT * FROM meta_score')\n",
    "    # print(cur.fetchall())\n",
    "    conn.close()\n",
    "\n",
    "# Insert to 'meta_score' table, in case more app data needed\n",
    "def insert_meta_data(meta):\n",
    "    conn,cur = create_connection()\n",
    "    cur.execute('INSERT INTO meta_score VALUES (?,?)',meta)\n",
    "    conn.comit()\n",
    "    # print out the last row in db\n",
    "    # cur.execute('SELECT * FROM meta_score WHERE ROWID IN ( SELECT max( ROWID ) FROM meta_score )');\n",
    "    conn.close()\n",
    "    \n",
    "# create 'app_store' table\n",
    "def create_itunes_info_data_table(app_info):\n",
    "    conn, cur = create_connection()\n",
    "    # Create a brand new \"itunes_info\" table in db\n",
    "    try:\n",
    "        cur.execute('DROP TABLE itunes_info');\n",
    "    except:\n",
    "        print(\"Create info table for the first time\")\n",
    "    cur.execute('CREATE TABLE itunes_info (name TEXT, id INTEGER, rating FLOAT,\\\n",
    "                artistName TEXT, artistId INTEGER, price FLOAT)');\n",
    "    cur.executemany('INSERT INTO itunes_info VALUES (?,?,?,?,?,?)', app_info);\n",
    "    conn.commit()\n",
    "    # Check table content:\n",
    "    # cur.execute('SELECT * FROM itunes_info')\n",
    "    # print(cur.fetchall())\n",
    "    conn.close()\n"
   ]
  },
  {
   "cell_type": "code",
   "execution_count": 21,
   "metadata": {},
   "outputs": [],
   "source": [
    "# db to Pandas Dataframe key = meta/info/review\n",
    "def get_df(key):\n",
    "    conn, cur = create_connection()\n",
    "    key_convert = {'meta':'meta_score','info':'itunes_info','review':'itunes_review'}\n",
    "    # print dataframe's head\n",
    "    df = pd.read_sql_query(f\"SELECT * FROM {key_convert[key]}\", conn)\n",
    "    conn.close()\n",
    "    print(df.head())\n",
    "    return df"
   ]
  },
  {
   "cell_type": "code",
   "execution_count": 4,
   "metadata": {
    "scrolled": false
   },
   "outputs": [],
   "source": [
    "# list of tuples: (app name,score)\n",
    "meta = get_meta_score(5)\n",
    "create_meta_data_table(meta)"
   ]
  },
  {
   "cell_type": "markdown",
   "metadata": {},
   "source": [
    "# Use iTunes Search API to Get App info:"
   ]
  },
  {
   "cell_type": "code",
   "execution_count": 28,
   "metadata": {},
   "outputs": [],
   "source": [
    "def search_url(name,country):\n",
    "    # iTunes API requires replace from space to \"+\"\n",
    "    name = name.replace(\" \",\"+\")\n",
    "    return f'https://itunes.apple.com/search?term={name}&country={country}&entity=software'\n",
    "\n",
    "def get_single_info(name):\n",
    "    # get json of iTunes Search Report\n",
    "    json = requests.get(search_url(name,\"us\")).json()\n",
    "    # Iterate Thru for a single app with Exact Same Name\n",
    "    for app in json['results']:\n",
    "        if app['trackName'] == name:\n",
    "            return(app['trackName'],app['trackId'],app['averageUserRating'],\n",
    "                   app['artistName'],app['artistId'],app['price'])\n",
    "\n",
    "def get_all_info(name_list):\n",
    "    info_list = []\n",
    "    for name in name_list:\n",
    "        info_list.append(get_single_info(name))\n",
    "    return info_list"
   ]
  },
  {
   "cell_type": "markdown",
   "metadata": {},
   "source": [
    "# TESTING PART"
   ]
  },
  {
   "cell_type": "code",
   "execution_count": null,
   "metadata": {
    "scrolled": false
   },
   "outputs": [],
   "source": [
    "search_res = requests.get(search_url(\"Meteorfall: Journey\",\"us\"))\n",
    "print(search_res.json())"
   ]
  },
  {
   "cell_type": "code",
   "execution_count": 27,
   "metadata": {},
   "outputs": [
    {
     "name": "stdout",
     "output_type": "stream",
     "text": [
      "                                           name  score\n",
      "0                               World of Goo HD     96\n",
      "1                                  World of Goo     96\n",
      "2                               Super QuickHook     96\n",
      "3  The World Ends with You: Solo Remix for iPad     95\n",
      "4                           Meteorfall: Journey     95\n"
     ]
    },
    {
     "data": {
      "text/plain": [
       "0      96\n",
       "1      96\n",
       "2      96\n",
       "3      95\n",
       "4      95\n",
       "       ..\n",
       "495    85\n",
       "496    85\n",
       "497    85\n",
       "498    85\n",
       "499    85\n",
       "Name: score, Length: 500, dtype: int64"
      ]
     },
     "execution_count": 27,
     "metadata": {},
     "output_type": "execute_result"
    }
   ],
   "source": [
    "df = get_df('meta')"
   ]
  },
  {
   "cell_type": "code",
   "execution_count": null,
   "metadata": {},
   "outputs": [],
   "source": []
  }
 ],
 "metadata": {
  "kernelspec": {
   "display_name": "Python 3",
   "language": "python",
   "name": "python3"
  },
  "language_info": {
   "codemirror_mode": {
    "name": "ipython",
    "version": 3
   },
   "file_extension": ".py",
   "mimetype": "text/x-python",
   "name": "python",
   "nbconvert_exporter": "python",
   "pygments_lexer": "ipython3",
   "version": "3.8.5"
  }
 },
 "nbformat": 4,
 "nbformat_minor": 4
}
